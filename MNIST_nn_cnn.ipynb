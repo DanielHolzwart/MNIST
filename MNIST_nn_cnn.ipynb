{
  "nbformat": 4,
  "nbformat_minor": 0,
  "metadata": {
    "colab": {
      "provenance": [],
      "authorship_tag": "ABX9TyMFA6w4Ck4x6OQ2WZaV3VqL",
      "include_colab_link": true
    },
    "kernelspec": {
      "name": "python3",
      "display_name": "Python 3"
    },
    "language_info": {
      "name": "python"
    }
  },
  "cells": [
    {
      "cell_type": "markdown",
      "metadata": {
        "id": "view-in-github",
        "colab_type": "text"
      },
      "source": [
        "<a href=\"https://colab.research.google.com/github/DanielHolzwart/MNIST/blob/main/MNIST_nn_cnn.ipynb\" target=\"_parent\"><img src=\"https://colab.research.google.com/assets/colab-badge.svg\" alt=\"Open In Colab\"/></a>"
      ]
    },
    {
      "cell_type": "code",
      "execution_count": 2,
      "metadata": {
        "colab": {
          "base_uri": "https://localhost:8080/"
        },
        "id": "uizeItupCLJ_",
        "outputId": "c7594821-362c-4ca4-d1ca-f6c46d802386"
      },
      "outputs": [
        {
          "output_type": "stream",
          "name": "stdout",
          "text": [
            "Mounted at /content/drive\n",
            "/content/drive/MyDrive/Kaggle/MNIST\n"
          ]
        }
      ],
      "source": [
        "from google.colab import drive\n",
        "drive.mount('/content/drive')\n",
        "import os\n",
        "os.environ['KAGGLE_CONFIG_DIR'] = \"/content/drive/MyDrive/Kaggle\"\n",
        "%cd /content/drive/MyDrive/Kaggle/MNIST"
      ]
    },
    {
      "cell_type": "code",
      "source": [
        "import pandas as pd\n",
        "import numpy as np\n",
        "\n",
        "X_train = pd.read_csv('train.csv')"
      ],
      "metadata": {
        "id": "tMNMei-CC8BE"
      },
      "execution_count": 3,
      "outputs": []
    },
    {
      "cell_type": "code",
      "source": [
        "X_train.head()"
      ],
      "metadata": {
        "colab": {
          "base_uri": "https://localhost:8080/",
          "height": 236
        },
        "id": "duP-7GihDnAp",
        "outputId": "fc946834-601a-4163-94d6-40bc7452be31"
      },
      "execution_count": 4,
      "outputs": [
        {
          "output_type": "execute_result",
          "data": {
            "text/plain": [
              "   label  pixel0  pixel1  pixel2  pixel3  pixel4  pixel5  pixel6  pixel7  \\\n",
              "0      1       0       0       0       0       0       0       0       0   \n",
              "1      0       0       0       0       0       0       0       0       0   \n",
              "2      1       0       0       0       0       0       0       0       0   \n",
              "3      4       0       0       0       0       0       0       0       0   \n",
              "4      0       0       0       0       0       0       0       0       0   \n",
              "\n",
              "   pixel8  ...  pixel774  pixel775  pixel776  pixel777  pixel778  pixel779  \\\n",
              "0       0  ...         0         0         0         0         0         0   \n",
              "1       0  ...         0         0         0         0         0         0   \n",
              "2       0  ...         0         0         0         0         0         0   \n",
              "3       0  ...         0         0         0         0         0         0   \n",
              "4       0  ...         0         0         0         0         0         0   \n",
              "\n",
              "   pixel780  pixel781  pixel782  pixel783  \n",
              "0         0         0         0         0  \n",
              "1         0         0         0         0  \n",
              "2         0         0         0         0  \n",
              "3         0         0         0         0  \n",
              "4         0         0         0         0  \n",
              "\n",
              "[5 rows x 785 columns]"
            ],
            "text/html": [
              "\n",
              "  <div id=\"df-d6cae037-aecc-4b00-a3b7-817549cae2f1\" class=\"colab-df-container\">\n",
              "    <div>\n",
              "<style scoped>\n",
              "    .dataframe tbody tr th:only-of-type {\n",
              "        vertical-align: middle;\n",
              "    }\n",
              "\n",
              "    .dataframe tbody tr th {\n",
              "        vertical-align: top;\n",
              "    }\n",
              "\n",
              "    .dataframe thead th {\n",
              "        text-align: right;\n",
              "    }\n",
              "</style>\n",
              "<table border=\"1\" class=\"dataframe\">\n",
              "  <thead>\n",
              "    <tr style=\"text-align: right;\">\n",
              "      <th></th>\n",
              "      <th>label</th>\n",
              "      <th>pixel0</th>\n",
              "      <th>pixel1</th>\n",
              "      <th>pixel2</th>\n",
              "      <th>pixel3</th>\n",
              "      <th>pixel4</th>\n",
              "      <th>pixel5</th>\n",
              "      <th>pixel6</th>\n",
              "      <th>pixel7</th>\n",
              "      <th>pixel8</th>\n",
              "      <th>...</th>\n",
              "      <th>pixel774</th>\n",
              "      <th>pixel775</th>\n",
              "      <th>pixel776</th>\n",
              "      <th>pixel777</th>\n",
              "      <th>pixel778</th>\n",
              "      <th>pixel779</th>\n",
              "      <th>pixel780</th>\n",
              "      <th>pixel781</th>\n",
              "      <th>pixel782</th>\n",
              "      <th>pixel783</th>\n",
              "    </tr>\n",
              "  </thead>\n",
              "  <tbody>\n",
              "    <tr>\n",
              "      <th>0</th>\n",
              "      <td>1</td>\n",
              "      <td>0</td>\n",
              "      <td>0</td>\n",
              "      <td>0</td>\n",
              "      <td>0</td>\n",
              "      <td>0</td>\n",
              "      <td>0</td>\n",
              "      <td>0</td>\n",
              "      <td>0</td>\n",
              "      <td>0</td>\n",
              "      <td>...</td>\n",
              "      <td>0</td>\n",
              "      <td>0</td>\n",
              "      <td>0</td>\n",
              "      <td>0</td>\n",
              "      <td>0</td>\n",
              "      <td>0</td>\n",
              "      <td>0</td>\n",
              "      <td>0</td>\n",
              "      <td>0</td>\n",
              "      <td>0</td>\n",
              "    </tr>\n",
              "    <tr>\n",
              "      <th>1</th>\n",
              "      <td>0</td>\n",
              "      <td>0</td>\n",
              "      <td>0</td>\n",
              "      <td>0</td>\n",
              "      <td>0</td>\n",
              "      <td>0</td>\n",
              "      <td>0</td>\n",
              "      <td>0</td>\n",
              "      <td>0</td>\n",
              "      <td>0</td>\n",
              "      <td>...</td>\n",
              "      <td>0</td>\n",
              "      <td>0</td>\n",
              "      <td>0</td>\n",
              "      <td>0</td>\n",
              "      <td>0</td>\n",
              "      <td>0</td>\n",
              "      <td>0</td>\n",
              "      <td>0</td>\n",
              "      <td>0</td>\n",
              "      <td>0</td>\n",
              "    </tr>\n",
              "    <tr>\n",
              "      <th>2</th>\n",
              "      <td>1</td>\n",
              "      <td>0</td>\n",
              "      <td>0</td>\n",
              "      <td>0</td>\n",
              "      <td>0</td>\n",
              "      <td>0</td>\n",
              "      <td>0</td>\n",
              "      <td>0</td>\n",
              "      <td>0</td>\n",
              "      <td>0</td>\n",
              "      <td>...</td>\n",
              "      <td>0</td>\n",
              "      <td>0</td>\n",
              "      <td>0</td>\n",
              "      <td>0</td>\n",
              "      <td>0</td>\n",
              "      <td>0</td>\n",
              "      <td>0</td>\n",
              "      <td>0</td>\n",
              "      <td>0</td>\n",
              "      <td>0</td>\n",
              "    </tr>\n",
              "    <tr>\n",
              "      <th>3</th>\n",
              "      <td>4</td>\n",
              "      <td>0</td>\n",
              "      <td>0</td>\n",
              "      <td>0</td>\n",
              "      <td>0</td>\n",
              "      <td>0</td>\n",
              "      <td>0</td>\n",
              "      <td>0</td>\n",
              "      <td>0</td>\n",
              "      <td>0</td>\n",
              "      <td>...</td>\n",
              "      <td>0</td>\n",
              "      <td>0</td>\n",
              "      <td>0</td>\n",
              "      <td>0</td>\n",
              "      <td>0</td>\n",
              "      <td>0</td>\n",
              "      <td>0</td>\n",
              "      <td>0</td>\n",
              "      <td>0</td>\n",
              "      <td>0</td>\n",
              "    </tr>\n",
              "    <tr>\n",
              "      <th>4</th>\n",
              "      <td>0</td>\n",
              "      <td>0</td>\n",
              "      <td>0</td>\n",
              "      <td>0</td>\n",
              "      <td>0</td>\n",
              "      <td>0</td>\n",
              "      <td>0</td>\n",
              "      <td>0</td>\n",
              "      <td>0</td>\n",
              "      <td>0</td>\n",
              "      <td>...</td>\n",
              "      <td>0</td>\n",
              "      <td>0</td>\n",
              "      <td>0</td>\n",
              "      <td>0</td>\n",
              "      <td>0</td>\n",
              "      <td>0</td>\n",
              "      <td>0</td>\n",
              "      <td>0</td>\n",
              "      <td>0</td>\n",
              "      <td>0</td>\n",
              "    </tr>\n",
              "  </tbody>\n",
              "</table>\n",
              "<p>5 rows × 785 columns</p>\n",
              "</div>\n",
              "    <div class=\"colab-df-buttons\">\n",
              "\n",
              "  <div class=\"colab-df-container\">\n",
              "    <button class=\"colab-df-convert\" onclick=\"convertToInteractive('df-d6cae037-aecc-4b00-a3b7-817549cae2f1')\"\n",
              "            title=\"Convert this dataframe to an interactive table.\"\n",
              "            style=\"display:none;\">\n",
              "\n",
              "  <svg xmlns=\"http://www.w3.org/2000/svg\" height=\"24px\" viewBox=\"0 -960 960 960\">\n",
              "    <path d=\"M120-120v-720h720v720H120Zm60-500h600v-160H180v160Zm220 220h160v-160H400v160Zm0 220h160v-160H400v160ZM180-400h160v-160H180v160Zm440 0h160v-160H620v160ZM180-180h160v-160H180v160Zm440 0h160v-160H620v160Z\"/>\n",
              "  </svg>\n",
              "    </button>\n",
              "\n",
              "  <style>\n",
              "    .colab-df-container {\n",
              "      display:flex;\n",
              "      gap: 12px;\n",
              "    }\n",
              "\n",
              "    .colab-df-convert {\n",
              "      background-color: #E8F0FE;\n",
              "      border: none;\n",
              "      border-radius: 50%;\n",
              "      cursor: pointer;\n",
              "      display: none;\n",
              "      fill: #1967D2;\n",
              "      height: 32px;\n",
              "      padding: 0 0 0 0;\n",
              "      width: 32px;\n",
              "    }\n",
              "\n",
              "    .colab-df-convert:hover {\n",
              "      background-color: #E2EBFA;\n",
              "      box-shadow: 0px 1px 2px rgba(60, 64, 67, 0.3), 0px 1px 3px 1px rgba(60, 64, 67, 0.15);\n",
              "      fill: #174EA6;\n",
              "    }\n",
              "\n",
              "    .colab-df-buttons div {\n",
              "      margin-bottom: 4px;\n",
              "    }\n",
              "\n",
              "    [theme=dark] .colab-df-convert {\n",
              "      background-color: #3B4455;\n",
              "      fill: #D2E3FC;\n",
              "    }\n",
              "\n",
              "    [theme=dark] .colab-df-convert:hover {\n",
              "      background-color: #434B5C;\n",
              "      box-shadow: 0px 1px 3px 1px rgba(0, 0, 0, 0.15);\n",
              "      filter: drop-shadow(0px 1px 2px rgba(0, 0, 0, 0.3));\n",
              "      fill: #FFFFFF;\n",
              "    }\n",
              "  </style>\n",
              "\n",
              "    <script>\n",
              "      const buttonEl =\n",
              "        document.querySelector('#df-d6cae037-aecc-4b00-a3b7-817549cae2f1 button.colab-df-convert');\n",
              "      buttonEl.style.display =\n",
              "        google.colab.kernel.accessAllowed ? 'block' : 'none';\n",
              "\n",
              "      async function convertToInteractive(key) {\n",
              "        const element = document.querySelector('#df-d6cae037-aecc-4b00-a3b7-817549cae2f1');\n",
              "        const dataTable =\n",
              "          await google.colab.kernel.invokeFunction('convertToInteractive',\n",
              "                                                    [key], {});\n",
              "        if (!dataTable) return;\n",
              "\n",
              "        const docLinkHtml = 'Like what you see? Visit the ' +\n",
              "          '<a target=\"_blank\" href=https://colab.research.google.com/notebooks/data_table.ipynb>data table notebook</a>'\n",
              "          + ' to learn more about interactive tables.';\n",
              "        element.innerHTML = '';\n",
              "        dataTable['output_type'] = 'display_data';\n",
              "        await google.colab.output.renderOutput(dataTable, element);\n",
              "        const docLink = document.createElement('div');\n",
              "        docLink.innerHTML = docLinkHtml;\n",
              "        element.appendChild(docLink);\n",
              "      }\n",
              "    </script>\n",
              "  </div>\n",
              "\n",
              "\n",
              "<div id=\"df-de1b7990-0232-4727-be11-ec592fdc1bb4\">\n",
              "  <button class=\"colab-df-quickchart\" onclick=\"quickchart('df-de1b7990-0232-4727-be11-ec592fdc1bb4')\"\n",
              "            title=\"Suggest charts\"\n",
              "            style=\"display:none;\">\n",
              "\n",
              "<svg xmlns=\"http://www.w3.org/2000/svg\" height=\"24px\"viewBox=\"0 0 24 24\"\n",
              "     width=\"24px\">\n",
              "    <g>\n",
              "        <path d=\"M19 3H5c-1.1 0-2 .9-2 2v14c0 1.1.9 2 2 2h14c1.1 0 2-.9 2-2V5c0-1.1-.9-2-2-2zM9 17H7v-7h2v7zm4 0h-2V7h2v10zm4 0h-2v-4h2v4z\"/>\n",
              "    </g>\n",
              "</svg>\n",
              "  </button>\n",
              "\n",
              "<style>\n",
              "  .colab-df-quickchart {\n",
              "      --bg-color: #E8F0FE;\n",
              "      --fill-color: #1967D2;\n",
              "      --hover-bg-color: #E2EBFA;\n",
              "      --hover-fill-color: #174EA6;\n",
              "      --disabled-fill-color: #AAA;\n",
              "      --disabled-bg-color: #DDD;\n",
              "  }\n",
              "\n",
              "  [theme=dark] .colab-df-quickchart {\n",
              "      --bg-color: #3B4455;\n",
              "      --fill-color: #D2E3FC;\n",
              "      --hover-bg-color: #434B5C;\n",
              "      --hover-fill-color: #FFFFFF;\n",
              "      --disabled-bg-color: #3B4455;\n",
              "      --disabled-fill-color: #666;\n",
              "  }\n",
              "\n",
              "  .colab-df-quickchart {\n",
              "    background-color: var(--bg-color);\n",
              "    border: none;\n",
              "    border-radius: 50%;\n",
              "    cursor: pointer;\n",
              "    display: none;\n",
              "    fill: var(--fill-color);\n",
              "    height: 32px;\n",
              "    padding: 0;\n",
              "    width: 32px;\n",
              "  }\n",
              "\n",
              "  .colab-df-quickchart:hover {\n",
              "    background-color: var(--hover-bg-color);\n",
              "    box-shadow: 0 1px 2px rgba(60, 64, 67, 0.3), 0 1px 3px 1px rgba(60, 64, 67, 0.15);\n",
              "    fill: var(--button-hover-fill-color);\n",
              "  }\n",
              "\n",
              "  .colab-df-quickchart-complete:disabled,\n",
              "  .colab-df-quickchart-complete:disabled:hover {\n",
              "    background-color: var(--disabled-bg-color);\n",
              "    fill: var(--disabled-fill-color);\n",
              "    box-shadow: none;\n",
              "  }\n",
              "\n",
              "  .colab-df-spinner {\n",
              "    border: 2px solid var(--fill-color);\n",
              "    border-color: transparent;\n",
              "    border-bottom-color: var(--fill-color);\n",
              "    animation:\n",
              "      spin 1s steps(1) infinite;\n",
              "  }\n",
              "\n",
              "  @keyframes spin {\n",
              "    0% {\n",
              "      border-color: transparent;\n",
              "      border-bottom-color: var(--fill-color);\n",
              "      border-left-color: var(--fill-color);\n",
              "    }\n",
              "    20% {\n",
              "      border-color: transparent;\n",
              "      border-left-color: var(--fill-color);\n",
              "      border-top-color: var(--fill-color);\n",
              "    }\n",
              "    30% {\n",
              "      border-color: transparent;\n",
              "      border-left-color: var(--fill-color);\n",
              "      border-top-color: var(--fill-color);\n",
              "      border-right-color: var(--fill-color);\n",
              "    }\n",
              "    40% {\n",
              "      border-color: transparent;\n",
              "      border-right-color: var(--fill-color);\n",
              "      border-top-color: var(--fill-color);\n",
              "    }\n",
              "    60% {\n",
              "      border-color: transparent;\n",
              "      border-right-color: var(--fill-color);\n",
              "    }\n",
              "    80% {\n",
              "      border-color: transparent;\n",
              "      border-right-color: var(--fill-color);\n",
              "      border-bottom-color: var(--fill-color);\n",
              "    }\n",
              "    90% {\n",
              "      border-color: transparent;\n",
              "      border-bottom-color: var(--fill-color);\n",
              "    }\n",
              "  }\n",
              "</style>\n",
              "\n",
              "  <script>\n",
              "    async function quickchart(key) {\n",
              "      const quickchartButtonEl =\n",
              "        document.querySelector('#' + key + ' button');\n",
              "      quickchartButtonEl.disabled = true;  // To prevent multiple clicks.\n",
              "      quickchartButtonEl.classList.add('colab-df-spinner');\n",
              "      try {\n",
              "        const charts = await google.colab.kernel.invokeFunction(\n",
              "            'suggestCharts', [key], {});\n",
              "      } catch (error) {\n",
              "        console.error('Error during call to suggestCharts:', error);\n",
              "      }\n",
              "      quickchartButtonEl.classList.remove('colab-df-spinner');\n",
              "      quickchartButtonEl.classList.add('colab-df-quickchart-complete');\n",
              "    }\n",
              "    (() => {\n",
              "      let quickchartButtonEl =\n",
              "        document.querySelector('#df-de1b7990-0232-4727-be11-ec592fdc1bb4 button');\n",
              "      quickchartButtonEl.style.display =\n",
              "        google.colab.kernel.accessAllowed ? 'block' : 'none';\n",
              "    })();\n",
              "  </script>\n",
              "</div>\n",
              "\n",
              "    </div>\n",
              "  </div>\n"
            ],
            "application/vnd.google.colaboratory.intrinsic+json": {
              "type": "dataframe",
              "variable_name": "X_train"
            }
          },
          "metadata": {},
          "execution_count": 4
        }
      ]
    },
    {
      "cell_type": "code",
      "source": [
        "y_train = X_train['label']\n",
        "X_train = X_train.drop('label', axis = 1)\n",
        "len(X_train)"
      ],
      "metadata": {
        "colab": {
          "base_uri": "https://localhost:8080/"
        },
        "id": "l9DaFPphEM1X",
        "outputId": "85839a5a-c1c4-454c-9747-8823206978d5"
      },
      "execution_count": 5,
      "outputs": [
        {
          "output_type": "execute_result",
          "data": {
            "text/plain": [
              "42000"
            ]
          },
          "metadata": {},
          "execution_count": 5
        }
      ]
    },
    {
      "cell_type": "code",
      "source": [
        "#plot a few images (five)\n",
        "import matplotlib.pyplot as plt\n",
        "rng_plt = range(5)\n",
        "for i in rng_plt:\n",
        "  digit = X_train.loc[i].to_numpy().reshape(28,28)\n",
        "  plt.subplot(1,len(rng_plt),i+1)\n",
        "  plt.imshow(digit,cmap= plt.cm.binary)\n",
        "  plt.axis('off')\n",
        "  plt.title(f'Label: {y_train[i]}')\n",
        "\n",
        "plt.show()"
      ],
      "metadata": {
        "colab": {
          "base_uri": "https://localhost:8080/",
          "height": 144
        },
        "id": "nO8g-7uLIobL",
        "outputId": "20c7af0b-92e3-47c7-de9e-6bc0ce5ecc46"
      },
      "execution_count": 6,
      "outputs": [
        {
          "output_type": "display_data",
          "data": {
            "text/plain": [
              "<Figure size 640x480 with 5 Axes>"
            ],
            "image/png": "[encoded data removed]"
          },
          "metadata": {}
        }
      ]
    },
    {
      "cell_type": "code",
      "source": [
        "#let us now split the data into a test and validation set. The following code overwrites the training set\n",
        "import sklearn\n",
        "from sklearn.model_selection import train_test_split\n",
        "X_train, X_valid, y_train, y_valid = train_test_split(X_train,y_train, test_size = 0.2,shuffle = True, random_state = 1)\n",
        "print(f'Length of train set {len(X_train)} and length of validation set {len(X_valid)}')"
      ],
      "metadata": {
        "id": "LltKtYuAIDKE",
        "colab": {
          "base_uri": "https://localhost:8080/"
        },
        "outputId": "dcf6117c-1f7f-47cf-fa20-1ccef8b62edb"
      },
      "execution_count": 7,
      "outputs": [
        {
          "output_type": "stream",
          "name": "stdout",
          "text": [
            "Length of train set 33600 and length of validation set 8400\n"
          ]
        }
      ]
    },
    {
      "cell_type": "markdown",
      "source": [
        "Next we will set up a neural network to classify the digits. We start with a fully connected one and then turn out attention to a convnet."
      ],
      "metadata": {
        "id": "deAx-RpKhJQW"
      }
    },
    {
      "cell_type": "markdown",
      "source": [
        "**1. Fully connected network**"
      ],
      "metadata": {
        "id": "zDYr3-YAhczc"
      }
    },
    {
      "cell_type": "code",
      "source": [
        "import torch\n",
        "from torch.utils.data import TensorDataset, DataLoader"
      ],
      "metadata": {
        "id": "7AUjanN4hcMV"
      },
      "execution_count": 19,
      "outputs": []
    },
    {
      "cell_type": "code",
      "source": [
        "#create tensors\n",
        "X_train_tensor = torch.tensor(X_train.values)\n",
        "y_train_tensor = torch.tensor(y_train.values)\n",
        "X_valid_tensor = torch.tensor(X_valid.values)\n",
        "y_valid_tensor = torch.tensor(y_valid.values)\n",
        "\n",
        "train_ds = TensorDataset(X_train_tensor, y_train_tensor)\n",
        "batch_size = 64\n",
        "train_dl = DataLoader(train_ds, batch_size, shuffle= True)"
      ],
      "metadata": {
        "id": "RAIOKFGchU48"
      },
      "execution_count": 20,
      "outputs": []
    },
    {
      "cell_type": "code",
      "source": [
        "#create NN. Cross entropy as we have multiple output and the Adam optimizer is usually a suitable choice in image detection. The input imagizes are of size 28 x 28\n",
        "import torch.nn as nn\n",
        "\n",
        "model = nn.Sequential(nn.Linear(28*28,512),nn.ReLU(),nn.Linear(512,10))\n",
        "optimizer = torch.optim.Adam(model.parameters(),lr = 0.001)\n",
        "loss_fn = nn.CrossEntropyLoss()"
      ],
      "metadata": {
        "id": "m1vocoPlhkp2"
      },
      "execution_count": 9,
      "outputs": []
    },
    {
      "cell_type": "code",
      "source": [
        "#train the network. We will reuse the code from the titanic_nn\n",
        "num_epochs = 10\n",
        "loss_hist_train = [0] * num_epochs\n",
        "accuracy_hist_train = [0] * num_epochs\n",
        "loss_hist_valid = [0] * num_epochs\n",
        "accuracy_hist_valid = [0] * num_epochs\n",
        "for epoch in range(num_epochs):\n",
        "    for x_batch, y_batch in train_dl:\n",
        "        pred = model(x_batch.float())\n",
        "        loss = loss_fn(pred, y_batch)\n",
        "        loss.backward()\n",
        "        optimizer.step()\n",
        "        optimizer.zero_grad()\n",
        "        is_correct = (torch.argmax(pred, dim=1) == y_batch).float()\n",
        "        accuracy_hist_train[epoch] += is_correct.sum()\n",
        "        loss_hist_train[epoch] += loss.item()\n",
        "    accuracy_hist_train[epoch] /= len(train_dl.dataset)\n",
        "    loss_hist_train[epoch] /= len(train_dl.dataset)\n",
        "    pred = model(X_valid_tensor.float())\n",
        "    loss = loss_fn(pred,y_valid_tensor)\n",
        "    loss_hist_valid[epoch] = loss.item()\n",
        "    is_correct = (torch.argmax(pred, dim=1) == y_valid_tensor).float()\n",
        "    accuracy_hist_valid[epoch] += is_correct.mean()"
      ],
      "metadata": {
        "id": "cS-cog4ohtVW"
      },
      "execution_count": 26,
      "outputs": []
    },
    {
      "cell_type": "code",
      "source": [
        "#plot the results of accuracy and loss\n",
        "import matplotlib.pyplot as plt\n",
        "fig = plt.figure(figsize=(16,4))\n",
        "ax = fig.add_subplot(1,2,1)\n",
        "plt.plot(loss_hist_train)\n",
        "plt.plot(loss_hist_valid)\n",
        "plt.legend(['Train Loss','Validation Loss'])\n",
        "ax.set_xlabel('Epochs', size = 15)\n",
        "ax = fig.add_subplot(1,2,2)\n",
        "plt.plot(accuracy_hist_train)\n",
        "plt.plot(accuracy_hist_valid)\n",
        "ax.set_xlabel('Epochs', size = 15)\n",
        "plt.legend(['Train accuracy','Validation Accuracy'])\n",
        "plt.show()"
      ],
      "metadata": {
        "colab": {
          "base_uri": "https://localhost:8080/",
          "height": 394
        },
        "id": "AxtHpKJZiWJ1",
        "outputId": "c22fd7d5-7407-4f8d-c765-38839e148ff7"
      },
      "execution_count": 27,
      "outputs": [
        {
          "output_type": "display_data",
          "data": {
            "text/plain": [
              "<Figure size 1600x400 with 2 Axes>"
            ],
            "image/png": "[encoded data removed]"
          },
          "metadata": {}
        }
      ]
    },
    {
      "cell_type": "code",
      "source": [
        "#let us look at the confusion matrix\n",
        "from sklearn.metrics import confusion_matrix, precision_score, recall_score\n",
        "confusion_matrix(y_train.to_numpy(), torch.argmax(model(X_train_tensor.float()),dim = 1).detach().numpy())"
      ],
      "metadata": {
        "colab": {
          "base_uri": "https://localhost:8080/"
        },
        "id": "2pYmOMxAkpls",
        "outputId": "ca6a4d04-1034-4502-fa8e-0755d1bfb2fc"
      },
      "execution_count": 153,
      "outputs": [
        {
          "output_type": "execute_result",
          "data": {
            "text/plain": [
              "array([[1517,    0,    1,    0,  455,    0,    0, 1302,    1,    3],\n",
              "       [1345,    0,    0,    0,    7,    0,    0, 1548,    0,  844],\n",
              "       [1439,    7,    1,    7,   60,    2,    0, 1751,    0,   75],\n",
              "       [2026,    1,    6,    0,   44,    3,    0, 1311,   14,   73],\n",
              "       [ 941,    3,   10,   11,   57,   42,    0, 2109,   59,   11],\n",
              "       [1167,    6,   18,    3,  180,    1,    0, 1655,   22,   12],\n",
              "       [1478,    8,   30,   16,  284,    2,    0, 1441,    1,   77],\n",
              "       [ 833,    1,    0,    1,  154,    4,    0, 2520,   25,   13],\n",
              "       [1426,   18,    0,    2,   18,    0,    0, 1745,    1,    7],\n",
              "       [1203,    8,   11,   16,   66,    3,    0, 1991,   38,    9]])"
            ]
          },
          "metadata": {},
          "execution_count": 153
        }
      ]
    },
    {
      "cell_type": "markdown",
      "source": [
        "The model is not working any better than the classical machine learning algorithms like KNeighbors or RandomForest. Before putting any addtional work into parameter tuning, let us have a look onto a cnn first."
      ],
      "metadata": {
        "id": "uWV13uu6mUvo"
      }
    },
    {
      "cell_type": "markdown",
      "source": [
        "**2. Convolutinal neural network**"
      ],
      "metadata": {
        "id": "FmQ-lXPUmip6"
      }
    },
    {
      "cell_type": "code",
      "source": [
        "#to contruct a cnn it is usually a valid approach to have increasing channel size while the width and heigth shrinks\n",
        "model = nn.Sequential()\n",
        "model.add_module('conv1', nn.Conv2d(in_channels = 1, out_channels = 32, kernel_size = 5, padding = 2)) #padding = 2 means that the output is input size\n",
        "model.add_module('relu1',nn.ReLU())\n",
        "model.add_module('pool1', nn.MaxPool2d(kernel_size = 2)) #kernel size 2 halfs the spatial dimensions\n",
        "model.add_module('conv2', nn.Conv2d(in_channels = 32, out_channels = 64, kernel_size = 5, padding = 2))\n",
        "model.add_module('relu2',nn.ReLU())\n",
        "model.add_module('pool2', nn.MaxPool2d(kernel_size = 2))\n"
      ],
      "metadata": {
        "id": "I9kbdREemiFc"
      },
      "execution_count": 32,
      "outputs": []
    },
    {
      "cell_type": "code",
      "source": [
        "#calculate size of feature maps\n",
        "x = torch.ones([4,1,308,308])\n",
        "model(x).shape"
      ],
      "metadata": {
        "colab": {
          "base_uri": "https://localhost:8080/"
        },
        "id": "_KY_29SBlVPI",
        "outputId": "1ca75dbc-ff55-4025-9ce6-23e1be8f01a8"
      },
      "execution_count": 33,
      "outputs": [
        {
          "output_type": "execute_result",
          "data": {
            "text/plain": [
              "torch.Size([4, 64, 77, 77])"
            ]
          },
          "metadata": {},
          "execution_count": 33
        }
      ]
    },
    {
      "cell_type": "code",
      "source": [
        "#flattening the last layer to a fully connected neural network\n",
        "model.add_module('flatten',nn.Flatten())\n",
        "x = torch.ones([4,1,28,28])\n",
        "print(model(x).shape)\n",
        "\n",
        "model.add_module('fc1',nn.Linear(64*7*7,1024))\n",
        "model.add_module('relu3',nn.ReLU())\n",
        "model.add_module('dropout', nn.Dropout(p=0.5))\n",
        "model.add_module('fc2',nn.Linear(1024,10))\n"
      ],
      "metadata": {
        "colab": {
          "base_uri": "https://localhost:8080/"
        },
        "id": "KUW6jMh9heKQ",
        "outputId": "ba99f714-ae7b-4f5e-ac1a-8753264ecbce"
      },
      "execution_count": 34,
      "outputs": [
        {
          "output_type": "stream",
          "name": "stdout",
          "text": [
            "torch.Size([4, 3136])\n"
          ]
        }
      ]
    },
    {
      "cell_type": "code",
      "source": [
        "model"
      ],
      "metadata": {
        "colab": {
          "base_uri": "https://localhost:8080/"
        },
        "id": "Pp-Oh19jijA3",
        "outputId": "47a64ffa-6d50-4af7-e3aa-5823f3da9b71"
      },
      "execution_count": 35,
      "outputs": [
        {
          "output_type": "execute_result",
          "data": {
            "text/plain": [
              "Sequential(\n",
              "  (conv1): Conv2d(1, 32, kernel_size=(5, 5), stride=(1, 1), padding=(2, 2))\n",
              "  (relu1): ReLU()\n",
              "  (pool1): MaxPool2d(kernel_size=2, stride=2, padding=0, dilation=1, ceil_mode=False)\n",
              "  (conv2): Conv2d(32, 64, kernel_size=(5, 5), stride=(1, 1), padding=(2, 2))\n",
              "  (relu2): ReLU()\n",
              "  (pool2): MaxPool2d(kernel_size=2, stride=2, padding=0, dilation=1, ceil_mode=False)\n",
              "  (flatten): Flatten(start_dim=1, end_dim=-1)\n",
              "  (fc1): Linear(in_features=3136, out_features=1024, bias=True)\n",
              "  (relu3): ReLU()\n",
              "  (dropout): Dropout(p=0.5, inplace=False)\n",
              "  (fc2): Linear(in_features=1024, out_features=10, bias=True)\n",
              ")"
            ]
          },
          "metadata": {},
          "execution_count": 35
        }
      ]
    },
    {
      "cell_type": "code",
      "source": [
        "model(x).shape"
      ],
      "metadata": {
        "colab": {
          "base_uri": "https://localhost:8080/"
        },
        "id": "18bo7VQ1mclS",
        "outputId": "af5af61d-36d6-476b-abe8-974e7c10f0f9"
      },
      "execution_count": 36,
      "outputs": [
        {
          "output_type": "execute_result",
          "data": {
            "text/plain": [
              "torch.Size([4, 10])"
            ]
          },
          "metadata": {},
          "execution_count": 36
        }
      ]
    },
    {
      "cell_type": "code",
      "source": [
        "#we need to bring the train and validation data into the appropiate form NCHW (=Number of images / channls / height / width)\n",
        "X_train_expand = np.resize(X_train, (len(X_train),1,28,28))\n",
        "X_valid_expand = np.resize(X_valid, (len(X_valid),1,28,28))"
      ],
      "metadata": {
        "id": "wbl0gwt5jYHv"
      },
      "execution_count": 37,
      "outputs": []
    },
    {
      "cell_type": "code",
      "source": [
        "X_train_expand.shape"
      ],
      "metadata": {
        "colab": {
          "base_uri": "https://localhost:8080/"
        },
        "id": "Q4ny2S8XpVfO",
        "outputId": "e1032e70-9bc5-447e-93d4-5a5036bdee7a"
      },
      "execution_count": 38,
      "outputs": [
        {
          "output_type": "execute_result",
          "data": {
            "text/plain": [
              "(33600, 1, 28, 28)"
            ]
          },
          "metadata": {},
          "execution_count": 38
        }
      ]
    },
    {
      "cell_type": "code",
      "source": [
        "X_train_tensor2 = torch.tensor(X_train_expand)\n",
        "X_valid_tensor2 = torch.tensor(X_valid_expand)\n",
        "\n",
        "train_ds = TensorDataset(X_train_tensor2, y_train_tensor)\n",
        "batch_size = 64\n",
        "train_dl = DataLoader(train_ds, batch_size, shuffle= True)"
      ],
      "metadata": {
        "id": "X-9NAkR2jfst"
      },
      "execution_count": 39,
      "outputs": []
    },
    {
      "cell_type": "code",
      "source": [
        "#same code as above but now with the cnn\n",
        "optimizer = torch.optim.Adam(model.parameters(),lr = 0.001)\n",
        "loss_fn = nn.CrossEntropyLoss()\n",
        "\n",
        "num_epochs = 5\n",
        "loss_hist_train = [0] * num_epochs\n",
        "accuracy_hist_train = [0] * num_epochs\n",
        "loss_hist_valid = [0] * num_epochs\n",
        "accuracy_hist_valid = [0] * num_epochs\n",
        "for epoch in range(num_epochs):\n",
        "    for x_batch, y_batch in train_dl:\n",
        "        pred = model(x_batch.float())\n",
        "        loss = loss_fn(pred, y_batch)\n",
        "        loss.backward()\n",
        "        optimizer.step()\n",
        "        optimizer.zero_grad()\n",
        "        is_correct = (torch.argmax(pred, dim=1) == y_batch).float()\n",
        "        accuracy_hist_train[epoch] += is_correct.sum()\n",
        "        loss_hist_train[epoch] += loss.item()\n",
        "    accuracy_hist_train[epoch] /= len(train_dl.dataset)\n",
        "    loss_hist_train[epoch] /= len(train_dl.dataset)\n",
        "    pred = model(X_valid_tensor2.float())\n",
        "    loss = loss_fn(pred,y_valid_tensor)\n",
        "    loss_hist_valid[epoch] = loss.item()\n",
        "    is_correct = (torch.argmax(pred, dim=1) == y_valid_tensor).float()\n",
        "    accuracy_hist_valid[epoch] += is_correct.mean()"
      ],
      "metadata": {
        "id": "XUkLOXwUiLV_"
      },
      "execution_count": 40,
      "outputs": []
    },
    {
      "cell_type": "code",
      "source": [
        "#plot the results of accuracy and loss\n",
        "fig = plt.figure(figsize=(16,4))\n",
        "ax = fig.add_subplot(1,2,1)\n",
        "plt.plot(loss_hist_train)\n",
        "plt.plot(loss_hist_valid)\n",
        "plt.legend(['Train Loss','Validation Loss'])\n",
        "ax.set_xlabel('Epochs', size = 15)\n",
        "ax = fig.add_subplot(1,2,2)\n",
        "plt.plot(accuracy_hist_train)\n",
        "plt.plot(accuracy_hist_valid)\n",
        "ax.set_xlabel('Epochs', size = 15)\n",
        "plt.legend(['Train accuracy','Validation Accuracy'])\n",
        "plt.show()"
      ],
      "metadata": {
        "colab": {
          "base_uri": "https://localhost:8080/",
          "height": 394
        },
        "id": "EjQHi1uWip84",
        "outputId": "828e31e7-a32a-48b7-f277-92194a994454"
      },
      "execution_count": 41,
      "outputs": [
        {
          "output_type": "display_data",
          "data": {
            "text/plain": [
              "<Figure size 1600x400 with 2 Axes>"
            ],
            "image/png": "[encoded data removed]"
          },
          "metadata": {}
        }
      ]
    },
    {
      "cell_type": "markdown",
      "source": [
        "The result looks more promising but the amount of epochs are limited due to resources"
      ],
      "metadata": {
        "id": "AfR-GpjwcFC-"
      }
    }
  ]
}